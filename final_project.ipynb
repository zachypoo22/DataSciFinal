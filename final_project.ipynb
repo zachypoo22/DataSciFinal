{
 "cells": [
  {
   "cell_type": "markdown",
   "metadata": {
    "slideshow": {
     "slide_type": "slide"
    }
   },
   "source": [
    "# Community Health Status Indicators (CHSI) to Combat Obesity, Heart Disease and Cancer \n",
    "From: https://catalog.data.gov/dataset/community-health-status-indicators-chsi-to-combat-obesity-heart-disease-and-cancer\n",
    "<br/>By: Zacheriah Mell"
   ]
  },
  {
   "cell_type": "markdown",
   "metadata": {
    "slideshow": {
     "slide_type": "slide"
    }
   },
   "source": [
    "## Introduction\n",
    "This project uses many \"community health status indicators\" (such as \"smoking\", \"obesity\", and \"not exercising\") and researches their individual and combined effect on the most deadly health conditions in America. <br/> <br/>\n",
    "\n",
    "In 2015, 1620 people were expected to die from Cancer *each day* that is over 590,000 people every year. <br/>\n",
    "1/4 of *all* deaths are caused by heart disease. That's over 610,000 deaths per year. <br/> <br/>\n",
    "\n",
    "This project explores what may be leading to these health epidemics. \n"
   ]
  },
  {
   "cell_type": "markdown",
   "metadata": {
    "slideshow": {
     "slide_type": "slide"
    }
   },
   "source": [
    "\n",
    "**Note: The term \"community health status indicator\" does not appear anywhere (that I could find) besides this data set. For our purposes we will take it to mean \"possible indicator of health\" or something similar. "
   ]
  },
  {
   "cell_type": "markdown",
   "metadata": {
    "slideshow": {
     "slide_type": "slide"
    }
   },
   "source": [
    "## The Data\n",
    "Downloading the full data set from <a href='https://catalog.data.gov/dataset/community-health-status-indicators-chsi-to-combat-obesity-heart-disease-and-cancer'> here </a> will get you a zip file with 11 CSV files and a text file indexing the CSVs. <br/> <br/>\n",
    "\n",
    "Data contains 200 measures for each of the 3,141 United States counties relating to death, deadly health conditions, and possible indicators of these conditions.\n",
    "\n",
    "There are several hundred columns and several thousand rows among these files, so significant time was used sorting through these files, finding relevant columns to my own project, and creating my own single CSV file with only the data used in this project. <br/>\n"
   ]
  },
  {
   "cell_type": "markdown",
   "metadata": {
    "slideshow": {
     "slide_type": "slide"
    }
   },
   "source": [
    "## Predictor Variables\n",
    "* No Excercise\n",
    "* Eating Few Fruits and Vegetables\n",
    "* Obesity\n",
    "* High Blood Pressure\n",
    "* Smoking\n",
    "* Diabetes"
   ]
  },
  {
   "cell_type": "markdown",
   "metadata": {
    "slideshow": {
     "slide_type": "slide"
    }
   },
   "source": [
    "## Target Variables\n",
    "* \"Unhealthy days\" - days missed from work or school due to illness\n",
    "* Breast Cancer\n",
    "* Colon Cancer\n",
    "* Heart Disease\n",
    "* Homicide\n",
    "* Lung Cancer\n",
    "* Stroke\n",
    "* Suicide\n",
    "* Injury - \"unintentional injury\"\n",
    "* Total Deaths"
   ]
  },
  {
   "cell_type": "markdown",
   "metadata": {
    "slideshow": {
     "slide_type": "slide"
    }
   },
   "source": [
    "## Preprocessing\n",
    "The dataset contained ~200 measures, not all of which were relevant to my project. Less than 20 of these measures were used in the final CSV file. <br/> <br/>\n",
    "Many counties had many columns missing. However, the dataset was so large that even after deleting a few hundred rows I was still left with over 1000 data points. This is more than enough data for my purpose, and saves the integrity of the data by avoiding trying to fill in the missing data."
   ]
  },
  {
   "cell_type": "markdown",
   "metadata": {
    "slideshow": {
     "slide_type": "slide"
    }
   },
   "source": [
    "## Exploratory analysis \n",
    "We'll start by downloading the CSV file, and loading it into pandas."
   ]
  },
  {
   "cell_type": "code",
   "execution_count": null,
   "metadata": {},
   "outputs": [],
   "source": []
  }
 ],
 "metadata": {
  "celltoolbar": "Slideshow",
  "kernelspec": {
   "display_name": "Python 3",
   "language": "python",
   "name": "python3"
  },
  "language_info": {
   "codemirror_mode": {
    "name": "ipython",
    "version": 3
   },
   "file_extension": ".py",
   "mimetype": "text/x-python",
   "name": "python",
   "nbconvert_exporter": "python",
   "pygments_lexer": "ipython3",
   "version": "3.7.1"
  }
 },
 "nbformat": 4,
 "nbformat_minor": 2
}

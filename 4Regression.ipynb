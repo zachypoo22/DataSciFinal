{
 "cells": [
  {
   "cell_type": "markdown",
   "metadata": {},
   "source": [
    "# Linear Regression"
   ]
  },
  {
   "cell_type": "markdown",
   "metadata": {},
   "source": [
    "## Advertising Dataset"
   ]
  },
  {
   "cell_type": "code",
   "execution_count": null,
   "metadata": {},
   "outputs": [],
   "source": [
    "import pandas as pd\n",
    "\n",
    "url=\"http://www.souravsengupta.com/ml2017/resources/Advertising.csv\"\n",
    "advertising = pd.read_csv(url)"
   ]
  },
  {
   "cell_type": "markdown",
   "metadata": {},
   "source": [
    "The data, for the most part is read in correctly. But let's delete the 'unnamed' column, which seems unnecessary."
   ]
  },
  {
   "cell_type": "code",
   "execution_count": null,
   "metadata": {},
   "outputs": [],
   "source": [
    "advertising.head(5)"
   ]
  },
  {
   "cell_type": "code",
   "execution_count": null,
   "metadata": {},
   "outputs": [],
   "source": [
    "advertising.columns"
   ]
  },
  {
   "cell_type": "code",
   "execution_count": null,
   "metadata": {},
   "outputs": [],
   "source": [
    "del advertising['Unnamed: 0']"
   ]
  },
  {
   "cell_type": "code",
   "execution_count": null,
   "metadata": {},
   "outputs": [],
   "source": [
    "advertising.head(5)"
   ]
  },
  {
   "cell_type": "markdown",
   "metadata": {},
   "source": [
    "Generating a scatter plot between two variables in the dataframe..."
   ]
  },
  {
   "cell_type": "code",
   "execution_count": null,
   "metadata": {},
   "outputs": [],
   "source": [
    "%matplotlib inline\n",
    "advertising.plot.scatter(x='TV', y='Sales')"
   ]
  },
  {
   "cell_type": "markdown",
   "metadata": {},
   "source": [
    "### scikit vs. statsmodels"
   ]
  },
  {
   "cell_type": "markdown",
   "metadata": {},
   "source": [
    "We'll use the `scikit` learn module once again. \n",
    "\n",
    "`scikit` learn is more interested in building _predictive_ models, compared to statisticians who sometimes are more interested in interpretation and model fitting. In this regard, the `scikit` linear models are a little limited. \n",
    "\n",
    "Also see:\n",
    "* `statsmodels`, which also computes things like p-values, confidence intervals, etc.\n",
    "* http://statsmodels.sourceforge.net/"
   ]
  },
  {
   "cell_type": "markdown",
   "metadata": {},
   "source": [
    "### Fitting a simple linear model using scikit...\n",
    "\n",
    "http://scikit-learn.org/stable/auto_examples/linear_model/plot_ols.html#sphx-glr-auto-examples-linear-model-plot-ols-py"
   ]
  },
  {
   "cell_type": "code",
   "execution_count": null,
   "metadata": {},
   "outputs": [],
   "source": [
    "from sklearn import linear_model\n",
    "\n",
    "# Create linear regression object\n",
    "reg = linear_model.LinearRegression()\n",
    "\n",
    "# Reshape your data from a Series, into a 1d array, and then into a 2d array \n",
    "\n",
    "# Train the model: only TV and Sales\n",
    "reg.fit(advertising['TV'].values.reshape(-1,1), advertising['Sales'].values.reshape(-1,1))"
   ]
  },
  {
   "cell_type": "markdown",
   "metadata": {},
   "source": [
    "Outputting the model's **coefficients**, **mean squared error**, and **r^2**:"
   ]
  },
  {
   "cell_type": "code",
   "execution_count": null,
   "metadata": {},
   "outputs": [],
   "source": [
    "import numpy as np\n",
    "\n",
    "# The coefficients\n",
    "print('Coefficients: \\n', reg.coef_)\n",
    "print('Intercept: \\n', reg.intercept_)\n",
    "# The mean squared error\n",
    "print(\"Mean squared error: %.2f\"\n",
    "      % np.mean((reg.predict(advertising['TV'].values.reshape(-1,1)) - advertising['Sales'].values.reshape(-1,1)) ** 2))\n",
    "# Explained variance score: 1 is perfect prediction\n",
    "print('r^2 Variance score: %.2f' % reg.score(advertising['TV'].values.reshape(-1,1), advertising['Sales'].values.reshape(-1,1)))"
   ]
  },
  {
   "cell_type": "markdown",
   "metadata": {},
   "source": [
    "### Drawing the model's line of best fit on top of the previous scatter plot:"
   ]
  },
  {
   "cell_type": "code",
   "execution_count": null,
   "metadata": {},
   "outputs": [],
   "source": [
    "import matplotlib.pyplot as plt\n",
    "\n",
    "# Plot outputs\n",
    "plt.scatter(advertising['TV'], advertising['Sales'],  color='black')\n",
    "plt.plot(advertising['TV'], reg.predict(advertising['TV'].values.reshape(-1,1)), color='blue', linewidth=3)"
   ]
  },
  {
   "cell_type": "markdown",
   "metadata": {},
   "source": [
    "### Calculating RSS (Residual Sum of Squares) and RSE (Residual Standard Error)"
   ]
  },
  {
   "cell_type": "markdown",
   "metadata": {},
   "source": [
    "We have our model's predictions. (Note that it's a `numpy` array.)"
   ]
  },
  {
   "cell_type": "code",
   "execution_count": null,
   "metadata": {},
   "outputs": [],
   "source": [
    "predicts = reg.predict(advertising['TV'].values.reshape(-1,1))\n",
    "print(type(predicts))\n",
    "predicts"
   ]
  },
  {
   "cell_type": "markdown",
   "metadata": {},
   "source": [
    "... and we have the true Sales values, which is a `pandas` Series ..."
   ]
  },
  {
   "cell_type": "code",
   "execution_count": null,
   "metadata": {},
   "outputs": [],
   "source": [
    "print(type(advertising['Sales']))\n",
    "advertising['Sales']"
   ]
  },
  {
   "cell_type": "markdown",
   "metadata": {},
   "source": [
    "... predicts is an array of one-item arrays ..."
   ]
  },
  {
   "cell_type": "code",
   "execution_count": null,
   "metadata": {},
   "outputs": [],
   "source": [
    "predicts"
   ]
  },
  {
   "cell_type": "markdown",
   "metadata": {},
   "source": [
    "... converting to a 1d array ..."
   ]
  },
  {
   "cell_type": "code",
   "execution_count": null,
   "metadata": {},
   "outputs": [],
   "source": [
    "predicts.reshape(1,-1)"
   ]
  },
  {
   "cell_type": "markdown",
   "metadata": {},
   "source": [
    "... using `tolist()` to convert from a 1d array to a python list ..."
   ]
  },
  {
   "cell_type": "code",
   "execution_count": null,
   "metadata": {},
   "outputs": [],
   "source": [
    "predicts.reshape(1,-1).tolist()[0]"
   ]
  },
  {
   "cell_type": "markdown",
   "metadata": {},
   "source": [
    "Comparing each prediction against the true value."
   ]
  },
  {
   "cell_type": "code",
   "execution_count": null,
   "metadata": {},
   "outputs": [],
   "source": [
    "# rss: residual sum of sqares\n",
    "\n",
    "rss = sum((y_hat - y) ** 2 for y_hat, y in zip(predicts.reshape(1,-1).tolist()[0], advertising['Sales'].tolist()))\n",
    "rss"
   ]
  },
  {
   "cell_type": "code",
   "execution_count": null,
   "metadata": {},
   "outputs": [],
   "source": [
    "# rse: residual standard error\n",
    "import math\n",
    "rse = math.sqrt(rss / (len(predicts) - 2))\n",
    "rse"
   ]
  },
  {
   "cell_type": "code",
   "execution_count": null,
   "metadata": {},
   "outputs": [],
   "source": [
    "# percentage error\n",
    "pe = rse / advertising['Sales'].mean()\n",
    "pe"
   ]
  },
  {
   "cell_type": "code",
   "execution_count": null,
   "metadata": {},
   "outputs": [],
   "source": [
    "# r^2 statistic\n",
    "reg.score(advertising['TV'].values.reshape(-1,1), advertising['Sales'].values.reshape(-1,1))"
   ]
  },
  {
   "cell_type": "markdown",
   "metadata": {},
   "source": [
    "## Multiple Linear Regression"
   ]
  },
  {
   "cell_type": "code",
   "execution_count": null,
   "metadata": {},
   "outputs": [],
   "source": [
    "reg.fit(advertising.loc[:,['TV','Radio','Newspaper']], advertising['Sales'].values.reshape(-1,1))\n",
    "\n",
    "# The columns\n",
    "print('Columns: \\n', advertising.columns)\n",
    "# The coefficients\n",
    "print('Coefficients: \\n', reg.coef_)\n",
    "print('Intercept: \\n', reg.intercept_)\n",
    "# The mean squared error\n",
    "print(\"Mean squared error: %.2f\"\n",
    "      % np.mean((reg.predict(advertising.loc[:,['TV','Radio','Newspaper']]) - advertising['Sales'].values.reshape(-1,1)) ** 2))\n",
    "# Explained variance score: 1 is perfect prediction\n",
    "print('Variance score: %.2f' % reg.score(advertising.loc[:,['TV','Radio','Newspaper']], advertising['Sales'].values.reshape(-1,1)))"
   ]
  },
  {
   "cell_type": "code",
   "execution_count": null,
   "metadata": {},
   "outputs": [],
   "source": [
    "reg.fit(advertising['TV'].values.reshape(-1,1), advertising['Sales'].values.reshape(-1,1))\n",
    "print('TV Model: \\n', reg.coef_, reg.intercept_)\n",
    "reg.fit(advertising['Radio'].values.reshape(-1,1), advertising['Sales'].values.reshape(-1,1))\n",
    "print('Radio Model: \\n', reg.coef_, reg.intercept_)\n",
    "reg.fit(advertising['Newspaper'].values.reshape(-1,1), advertising['Sales'].values.reshape(-1,1))\n",
    "print('Newspaper Model: \\n', reg.coef_, reg.intercept_)"
   ]
  },
  {
   "cell_type": "markdown",
   "metadata": {},
   "source": [
    "Correlation Matrix Plot:"
   ]
  },
  {
   "cell_type": "code",
   "execution_count": null,
   "metadata": {},
   "outputs": [],
   "source": [
    "plt.matshow(advertising.corr())"
   ]
  },
  {
   "cell_type": "code",
   "execution_count": null,
   "metadata": {},
   "outputs": [],
   "source": [
    "# correlation matrix\n",
    "advertising.corr()"
   ]
  },
  {
   "cell_type": "markdown",
   "metadata": {},
   "source": [
    "## Credit dataset:"
   ]
  },
  {
   "cell_type": "code",
   "execution_count": null,
   "metadata": {},
   "outputs": [],
   "source": [
    "url = 'http://www-bcf.usc.edu/~gareth/ISL/Credit.csv'\n",
    "\n",
    "credit = pd.read_csv(url)\n",
    "credit.head(5)"
   ]
  },
  {
   "cell_type": "code",
   "execution_count": null,
   "metadata": {},
   "outputs": [],
   "source": [
    "del credit['Unnamed: 0']"
   ]
  },
  {
   "cell_type": "markdown",
   "metadata": {},
   "source": [
    "Scatter Plot Matrix:"
   ]
  },
  {
   "cell_type": "code",
   "execution_count": null,
   "metadata": {},
   "outputs": [],
   "source": [
    "from pandas.plotting import scatter_matrix\n",
    "scatter_matrix(credit, alpha=0.2, figsize=(6, 6))"
   ]
  },
  {
   "cell_type": "markdown",
   "metadata": {},
   "source": [
    "`scikit`'s Linear Regression won't work out of the box on categorical predictors, such as the Gender variable."
   ]
  },
  {
   "cell_type": "code",
   "execution_count": null,
   "metadata": {},
   "outputs": [],
   "source": [
    "# ValueError exception is raised\n",
    "reg.fit(credit['Gender'].values.reshape(-1,1), credit['Balance'].values.reshape(-1,1))"
   ]
  },
  {
   "cell_type": "markdown",
   "metadata": {},
   "source": [
    "### Dummy Variables (Categorial -> Numeric)"
   ]
  },
  {
   "cell_type": "markdown",
   "metadata": {},
   "source": [
    "Creating a dummy variable and insert it into the dataframe:\n",
    "* 1 = Male\n",
    "* 0 = Famale"
   ]
  },
  {
   "cell_type": "code",
   "execution_count": null,
   "metadata": {},
   "outputs": [],
   "source": [
    "dummy = [1 if x == 'Male' else 0 for x in credit['Gender']]\n",
    "dummy"
   ]
  },
  {
   "cell_type": "code",
   "execution_count": null,
   "metadata": {},
   "outputs": [],
   "source": [
    "credit.insert(loc=0, column='GenderDummy', value=dummy)"
   ]
  },
  {
   "cell_type": "code",
   "execution_count": null,
   "metadata": {},
   "outputs": [],
   "source": [
    "credit.head(5)"
   ]
  },
  {
   "cell_type": "code",
   "execution_count": null,
   "metadata": {},
   "outputs": [],
   "source": [
    "reg.fit(credit['GenderDummy'].values.reshape(-1,1), credit['Balance'].values.reshape(-1,1))\n",
    "# The coefficients\n",
    "print('Coefficients: \\n', reg.coef_)\n",
    "print('Intercept: \\n', reg.intercept_)"
   ]
  },
  {
   "cell_type": "markdown",
   "metadata": {},
   "source": [
    "`pandas` can automatically create dummy variables.\n",
    "\n",
    "Observe how each level gets its own new variable."
   ]
  },
  {
   "cell_type": "code",
   "execution_count": null,
   "metadata": {},
   "outputs": [],
   "source": [
    "credit_with_dummies = pd.get_dummies(credit, columns = ['Gender', 'Ethnicity'] )\n",
    "credit_with_dummies"
   ]
  },
  {
   "cell_type": "code",
   "execution_count": null,
   "metadata": {},
   "outputs": [],
   "source": [
    "#reg.fit(credit_with_dummies.iloc[:,12:15], credit_with_dummies['Balance'].values.reshape(-1,1))\n",
    "#reg.fit(credit_with_dummies.loc[:,['Ethnicity_African American','Ethnicity_Asian','Ethnicity_Caucasian']], credit_with_dummies['Balance'].values.reshape(-1,1))\n",
    "reg.fit(credit_with_dummies.loc[:,['Ethnicity_African American','Ethnicity_Asian']], credit_with_dummies['Balance'].values.reshape(-1,1))\n",
    "# The coefficients\n",
    "print('Coefficients: \\n', reg.coef_)\n",
    "print('Intercept: \\n', reg.intercept_)"
   ]
  },
  {
   "cell_type": "code",
   "execution_count": null,
   "metadata": {},
   "outputs": [],
   "source": [
    "reg.fit(credit_with_dummies.iloc[:,1:5], credit_with_dummies['Balance'].values.reshape(-1,1))\n",
    "# The coefficients\n",
    "print('Coefficients: \\n', reg.coef_)\n",
    "print('Intercept: \\n', reg.intercept_)"
   ]
  },
  {
   "cell_type": "code",
   "execution_count": null,
   "metadata": {},
   "outputs": [],
   "source": [
    "credit_with_dummies.iloc[:,12:15]"
   ]
  }
 ],
 "metadata": {
  "anaconda-cloud": {},
  "kernelspec": {
   "display_name": "Python 3",
   "language": "python",
   "name": "python3"
  },
  "language_info": {
   "codemirror_mode": {
    "name": "ipython",
    "version": 3
   },
   "file_extension": ".py",
   "mimetype": "text/x-python",
   "name": "python",
   "nbconvert_exporter": "python",
   "pygments_lexer": "ipython3",
   "version": "3.7.2"
  }
 },
 "nbformat": 4,
 "nbformat_minor": 1
}
